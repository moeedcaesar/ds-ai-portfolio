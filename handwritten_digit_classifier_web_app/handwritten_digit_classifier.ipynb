{
 "cells": [
  {
   "cell_type": "markdown",
   "id": "d251d2b0-d421-4f06-a759-2b488a483972",
   "metadata": {},
   "source": [
    "# Importing Libraries"
   ]
  },
  {
   "cell_type": "code",
   "execution_count": 1,
   "id": "d043b782-97d8-4468-854f-a57c6a2819f5",
   "metadata": {},
   "outputs": [],
   "source": [
    "import torch\n",
    "import torch.nn as nn\n",
    "import torch.optim as optim\n",
    "import torchvision\n",
    "import torchvision.transforms as transforms\n",
    "import torchvision.datasets as datasets\n",
    "import matplotlib.pyplot as plt\n",
    "import seaborn as sns\n",
    "from sklearn.metrics import confusion_matrix, classification_report"
   ]
  },
  {
   "cell_type": "markdown",
   "id": "773d6703-55a2-4bb5-a859-5c47f0e13b5d",
   "metadata": {},
   "source": [
    "# Define Transform: convert to tensor + normalize"
   ]
  },
  {
   "cell_type": "code",
   "execution_count": 2,
   "id": "4ef99896-6d95-4a31-8403-b25294d72501",
   "metadata": {},
   "outputs": [],
   "source": [
    "normalize = transforms.Normalize((0.1307,), (0.3081,))\n",
    "transform = transforms.Compose([transforms.ToTensor(), normalize])"
   ]
  },
  {
   "cell_type": "markdown",
   "id": "3afa649a-ed9c-4ca7-81a5-aa771e914b0f",
   "metadata": {},
   "source": [
    "# Loading training and test datasets"
   ]
  },
  {
   "cell_type": "code",
   "execution_count": 3,
   "id": "55a4fdb7-82ef-42f9-905d-f8d5a9703a58",
   "metadata": {},
   "outputs": [],
   "source": [
    "mnist_trainset = datasets.MNIST(root='./data', train=True, download=True, transform=transform)"
   ]
  },
  {
   "cell_type": "code",
   "execution_count": 4,
   "id": "d7f977fb-c0b9-4a54-bbb5-0dc4e65bfd77",
   "metadata": {},
   "outputs": [],
   "source": [
    "mnist_testset = datasets.MNIST(root='./data', train=False, download=True, transform=transform)"
   ]
  },
  {
   "cell_type": "markdown",
   "id": "3fa9b76e-cd27-4bb6-8ae3-e8f05cd6b8fe",
   "metadata": {},
   "source": [
    "# Number of samples"
   ]
  },
  {
   "cell_type": "code",
   "execution_count": 5,
   "id": "c687053a-c918-4988-bd9d-cb6a96ae858a",
   "metadata": {},
   "outputs": [
    {
     "name": "stdout",
     "output_type": "stream",
     "text": [
      "Number of training samples: 60000\n"
     ]
    }
   ],
   "source": [
    "print(f\"Number of training samples: {len(mnist_trainset)}\")"
   ]
  },
  {
   "cell_type": "code",
   "execution_count": 6,
   "id": "d4e32539-6d22-435f-af82-d24d92cad120",
   "metadata": {},
   "outputs": [
    {
     "name": "stdout",
     "output_type": "stream",
     "text": [
      "Number of test samples: 10000\n"
     ]
    }
   ],
   "source": [
    "print(f\"Number of test samples: {len(mnist_testset)}\")"
   ]
  },
  {
   "cell_type": "markdown",
   "id": "29fe70e5-f5ee-4db7-bece-c686b830b432",
   "metadata": {},
   "source": [
    "# Image size and shape"
   ]
  },
  {
   "cell_type": "code",
   "execution_count": 7,
   "id": "0183e04e-f55d-4f28-9f92-0fb47ba77109",
   "metadata": {},
   "outputs": [
    {
     "name": "stdout",
     "output_type": "stream",
     "text": [
      "Image tensor shapetorch.Size([1, 28, 28])\n",
      "Label: 5\n"
     ]
    }
   ],
   "source": [
    "image, label = mnist_trainset[0]\n",
    "print(f\"Image tensor shape{image.shape}\")\n",
    "print(f\"Label: {label}\")"
   ]
  },
  {
   "cell_type": "markdown",
   "id": "856c668d-05ac-4224-93a4-0b2aeab3cbb1",
   "metadata": {},
   "source": [
    "# Display the first 5 images with labels"
   ]
  },
  {
   "cell_type": "code",
   "execution_count": 8,
   "id": "65eb990e-71c3-425b-b23b-da54115ffda2",
   "metadata": {},
   "outputs": [
    {
     "data": {
      "image/png": "[encoded data removed]",
      "text/plain": [
       "<Figure size 640x480 with 5 Axes>"
      ]
     },
     "metadata": {},
     "output_type": "display_data"
    }
   ],
   "source": [
    "for i in range(5):\n",
    "    image, label = mnist_trainset[i]\n",
    "    img = image.squeeze() * 0.1307 + 0.3081 # unnormalize for display\n",
    "    plt.subplot(1, 5, i+1)\n",
    "    plt.imshow(img, cmap='gray')\n",
    "    plt.title(f\"Label: {label}\")\n",
    "    plt.axis('off')\n",
    "\n",
    "plt.tight_layout()\n",
    "plt.show()"
   ]
  },
  {
   "cell_type": "markdown",
   "id": "67515e99-9ff1-403c-b48d-b6f8c297c836",
   "metadata": {},
   "source": [
    "# Loading the datasets"
   ]
  },
  {
   "cell_type": "code",
   "execution_count": 9,
   "id": "227adfa8-9b5c-4763-8ebc-10d1c4d7af06",
   "metadata": {},
   "outputs": [],
   "source": [
    "train_loader = torch.utils.data.DataLoader(mnist_trainset, batch_size=64, shuffle=True)"
   ]
  },
  {
   "cell_type": "code",
   "execution_count": 10,
   "id": "4afcccc9-e508-4f1a-ae75-37883dcb6431",
   "metadata": {},
   "outputs": [],
   "source": [
    "test_loader = torch.utils.data.DataLoader(mnist_testset, batch_size=1000, shuffle=False)"
   ]
  },
  {
   "cell_type": "markdown",
   "id": "6bde64d8-c586-475e-ad8b-86ddd4821a91",
   "metadata": {},
   "source": [
    "## Displaying the data distribution of Classes"
   ]
  },
  {
   "cell_type": "code",
   "execution_count": 11,
   "id": "61afd17e-998c-4cb1-94a9-a16b8e9da3f7",
   "metadata": {},
   "outputs": [
    {
     "data": {
      "image/png": "[encoded data removed]",
      "text/plain": [
       "<Figure size 640x480 with 1 Axes>"
      ]
     },
     "metadata": {},
     "output_type": "display_data"
    }
   ],
   "source": [
    "labels = [label for _, label in mnist_trainset]\n",
    "sns.countplot(x=labels)\n",
    "plt.title(\"Class distribution in MNIST train set\")\n",
    "plt.xlabel(\"Digit Class\")\n",
    "plt.ylabel(\"Frequency\")\n",
    "plt.show()"
   ]
  },
  {
   "cell_type": "markdown",
   "id": "b12b9a28-e6e8-49ba-9158-1cf458e237c4",
   "metadata": {},
   "source": [
    "## Declaring Classes"
   ]
  },
  {
   "cell_type": "code",
   "execution_count": 12,
   "id": "669e1e96-3809-4395-b8e1-385421dcfbec",
   "metadata": {},
   "outputs": [],
   "source": [
    "classes = ('0', '1', '2', '3', '4', '5', '6', '7', '8', '9')"
   ]
  },
  {
   "cell_type": "markdown",
   "id": "616e422c-a114-4295-9619-8748c7676960",
   "metadata": {},
   "source": [
    "# Building CNN Model; defining layers and flow of data"
   ]
  },
  {
   "cell_type": "code",
   "execution_count": 13,
   "id": "bfa2436a-ed20-471f-b62e-4d8eab86dee1",
   "metadata": {},
   "outputs": [],
   "source": [
    "class CNNModel(nn.Module):\n",
    "    def __init__(self):\n",
    "        super(CNNModel, self).__init__()\n",
    "        self.conv1 = nn.Conv2d(1, 16, 3, padding=1)\n",
    "        self.relu = nn.ReLU()\n",
    "        self.pool = nn.MaxPool2d(2, 2)\n",
    "        self.conv2 = nn.Conv2d(16, 32, 3, padding=1)\n",
    "\n",
    "        self.fc1 = nn.Linear(32*7*7, 512)\n",
    "        self.fc2 = nn.Linear(512, 10)\n",
    "\n",
    "    def forward(self, x):\n",
    "        out = self.conv1(x)\n",
    "        out = self.relu(out)\n",
    "        out = self.pool(out)\n",
    "\n",
    "        out = self.conv2(out)\n",
    "        out = self.relu(out)\n",
    "        out = self.pool(out)\n",
    "\n",
    "        out = out.view(-1, 32*7*7)\n",
    "        out = self.fc1(out)\n",
    "        out = self.relu(out)\n",
    "        out = self.fc2(out)\n",
    "        return out"
   ]
  },
  {
   "cell_type": "code",
   "execution_count": 14,
   "id": "c0e9b27a-34b7-416f-9636-2b81ceddacce",
   "metadata": {},
   "outputs": [],
   "source": [
    "model = CNNModel()"
   ]
  },
  {
   "cell_type": "markdown",
   "id": "07f887d1-8282-40db-8358-b6d9e00ff9ef",
   "metadata": {},
   "source": [
    "# Loss and Optimizers"
   ]
  },
  {
   "cell_type": "code",
   "execution_count": 15,
   "id": "1012d77b-9068-47ee-97ce-7938f8859a4f",
   "metadata": {},
   "outputs": [],
   "source": [
    "criterion = nn.CrossEntropyLoss()\n",
    "optimizer = optim.Adam(model.parameters(), lr=0.001)"
   ]
  },
  {
   "cell_type": "markdown",
   "id": "cc3d3bf4-9304-437f-aade-68445ba7dd81",
   "metadata": {},
   "source": [
    "# Training the Model while also displaying loss at each epoch"
   ]
  },
  {
   "cell_type": "code",
   "execution_count": 16,
   "id": "1d923dc1-5dea-44ab-8bcc-c5963e351dbf",
   "metadata": {},
   "outputs": [],
   "source": [
    "epochs = 10"
   ]
  },
  {
   "cell_type": "code",
   "execution_count": 17,
   "id": "d5dcf91c-f1ee-4ed7-ad61-2fbbe0e9e5f1",
   "metadata": {},
   "outputs": [
    {
     "name": "stdout",
     "output_type": "stream",
     "text": [
      "Epoch: 0, Loss: 133.23895200435072\n",
      "Epoch: 1, Loss: 40.21521870570723\n",
      "Epoch: 2, Loss: 26.438351876975503\n",
      "Epoch: 3, Loss: 19.09470075788704\n",
      "Epoch: 4, Loss: 15.206715175520003\n",
      "Epoch: 5, Loss: 10.384496419626885\n",
      "Epoch: 6, Loss: 9.485945843023728\n",
      "Epoch: 7, Loss: 7.783272197617407\n",
      "Epoch: 8, Loss: 6.890628679856718\n",
      "Epoch: 9, Loss: 7.410082822004142\n"
     ]
    }
   ],
   "source": [
    "# Inputs are images and output_orig are labels\n",
    "for epoch in range(epochs):\n",
    "    model.train()\n",
    "    total_loss = 0\n",
    "    for inputs, output_orig in train_loader:\n",
    "        optimizer.zero_grad()\n",
    "        outputs = model(inputs)\n",
    "        loss = criterion(outputs, output_orig)\n",
    "        loss.backward()\n",
    "        optimizer.step()\n",
    "        total_loss += loss.item()\n",
    "    print(f\"Epoch: {epoch}, Loss: {total_loss}\")"
   ]
  },
  {
   "cell_type": "markdown",
   "id": "66b9f1c4-a07f-4975-9a2e-8146408c05e8",
   "metadata": {},
   "source": [
    "# Evaluation through Classification Report"
   ]
  },
  {
   "cell_type": "code",
   "execution_count": 18,
   "id": "9cfeef2b-81e8-449e-a76a-94de7ce7c55c",
   "metadata": {},
   "outputs": [
    {
     "name": "stdout",
     "output_type": "stream",
     "text": [
      "\n",
      "Classification Report:\n",
      "              precision    recall  f1-score   support\n",
      "\n",
      "           0       0.99      1.00      0.99       980\n",
      "           1       1.00      0.99      1.00      1135\n",
      "           2       1.00      0.99      0.99      1032\n",
      "           3       0.99      1.00      0.99      1010\n",
      "           4       1.00      0.99      0.99       982\n",
      "           5       0.99      0.99      0.99       892\n",
      "           6       0.99      0.99      0.99       958\n",
      "           7       0.99      0.99      0.99      1028\n",
      "           8       0.99      0.99      0.99       974\n",
      "           9       0.98      0.99      0.98      1009\n",
      "\n",
      "    accuracy                           0.99     10000\n",
      "   macro avg       0.99      0.99      0.99     10000\n",
      "weighted avg       0.99      0.99      0.99     10000\n",
      "\n"
     ]
    }
   ],
   "source": [
    "model.eval()\n",
    "all_preds = []\n",
    "all_labels = []\n",
    "\n",
    "with torch.no_grad():\n",
    "    for images, labels in test_loader:\n",
    "        outputs = model(images)\n",
    "        _, predicted = torch.max(outputs, 1)\n",
    "        all_preds.extend(predicted.numpy())\n",
    "        all_labels.extend(labels.numpy())\n",
    "\n",
    "print(\"\\nClassification Report:\")\n",
    "print(classification_report(all_labels, all_preds))"
   ]
  },
  {
   "cell_type": "markdown",
   "id": "ab179c3f-1869-405a-9d4b-ac115ef0752f",
   "metadata": {},
   "source": [
    "# Confusion Matrix"
   ]
  },
  {
   "cell_type": "code",
   "execution_count": 19,
   "id": "7812805f-fb62-48e9-a473-ca9b165a1a10",
   "metadata": {},
   "outputs": [
    {
     "data": {
      "image/png": "[encoded data removed]",
      "text/plain": [
       "<Figure size 800x600 with 2 Axes>"
      ]
     },
     "metadata": {},
     "output_type": "display_data"
    }
   ],
   "source": [
    "conf_matrix = confusion_matrix(all_labels, all_preds)\n",
    "plt.figure(figsize=(8,6))\n",
    "sns.heatmap(conf_matrix, annot=True, fmt='d', cmap='Blues', xticklabels=range(10), yticklabels=range(10))\n",
    "plt.title(\"Confusion Matrix\")\n",
    "plt.xlabel(\"Predicted\")\n",
    "plt.ylabel(\"Actual\")\n",
    "plt.show()"
   ]
  },
  {
   "cell_type": "code",
   "execution_count": 20,
   "id": "7f12101d-6e4a-429b-aad0-f6a7dd8521c3",
   "metadata": {},
   "outputs": [],
   "source": [
    "no_of_images_to_show = 5"
   ]
  },
  {
   "cell_type": "code",
   "execution_count": 21,
   "id": "129bffaf-a801-4c81-b909-de54b6073dac",
   "metadata": {},
   "outputs": [
    {
     "data": {
      "image/png": "[encoded data removed]",
      "text/plain": [
       "<Figure size 500x100 with 5 Axes>"
      ]
     },
     "metadata": {},
     "output_type": "display_data"
    }
   ],
   "source": [
    "with torch.no_grad():\n",
    "    for images, labels in test_loader:\n",
    "        output = model(images)\n",
    "        _, prediction = torch.max(output, 1)\n",
    "        plt.figure(figsize=(5,1))\n",
    "        for i in range(no_of_images_to_show):\n",
    "            img = images[i]\n",
    "            plt.subplot(1, no_of_images_to_show, i+1)\n",
    "            plt.imshow(img.squeeze(), cmap='gray')\n",
    "            plt.title(\"Pred:{} \\n True: {}\".format(prediction[i], labels[i]))\n",
    "            plt.axis(\"off\")\n",
    "        plt.show()\n",
    "        break"
   ]
  },
  {
   "cell_type": "markdown",
   "id": "0e9de078-a6ce-48d0-a943-555a57d55cd6",
   "metadata": {},
   "source": [
    "### Save the model"
   ]
  },
  {
   "cell_type": "code",
   "execution_count": 24,
   "id": "cecebc04-9c3a-4b6c-8f93-edacc5a28d11",
   "metadata": {},
   "outputs": [],
   "source": [
    "torch.save(model.state_dict(), 'cnn_model.pth')"
   ]
  },
  {
   "cell_type": "markdown",
   "id": "c978aec6-1d4e-4b8f-a593-6fce7d8d96ab",
   "metadata": {},
   "source": [
    "### Load the model"
   ]
  },
  {
   "cell_type": "code",
   "execution_count": 26,
   "id": "f45bb72c-2f2d-4902-85f6-0d2c722b5ce0",
   "metadata": {},
   "outputs": [
    {
     "data": {
      "text/plain": [
       "<All keys matched successfully>"
      ]
     },
     "execution_count": 26,
     "metadata": {},
     "output_type": "execute_result"
    }
   ],
   "source": [
    "loaded_model = CNNModel()\n",
    "loaded_model.load_state_dict(torch.load('cnn_model.pth'))"
   ]
  },
  {
   "cell_type": "markdown",
   "id": "45eaf3c8-e096-43e4-a068-ce611c9b377b",
   "metadata": {},
   "source": [
    "### Set the model to evaluation mode"
   ]
  },
  {
   "cell_type": "code",
   "execution_count": 27,
   "id": "c54b8e62-fa14-4ff1-b1d1-84c05ecb5223",
   "metadata": {},
   "outputs": [
    {
     "data": {
      "text/plain": [
       "CNNModel(\n",
       "  (conv1): Conv2d(1, 16, kernel_size=(3, 3), stride=(1, 1), padding=(1, 1))\n",
       "  (relu): ReLU()\n",
       "  (pool): MaxPool2d(kernel_size=2, stride=2, padding=0, dilation=1, ceil_mode=False)\n",
       "  (conv2): Conv2d(16, 32, kernel_size=(3, 3), stride=(1, 1), padding=(1, 1))\n",
       "  (fc1): Linear(in_features=1568, out_features=512, bias=True)\n",
       "  (fc2): Linear(in_features=512, out_features=10, bias=True)\n",
       ")"
      ]
     },
     "execution_count": 27,
     "metadata": {},
     "output_type": "execute_result"
    }
   ],
   "source": [
    "loaded_model.eval()"
   ]
  }
 ],
 "metadata": {
  "kernelspec": {
   "display_name": "Python 3 (ipykernel)",
   "language": "python",
   "name": "python3"
  },
  "language_info": {
   "codemirror_mode": {
    "name": "ipython",
    "version": 3
   },
   "file_extension": ".py",
   "mimetype": "text/x-python",
   "name": "python",
   "nbconvert_exporter": "python",
   "pygments_lexer": "ipython3",
   "version": "3.10.18"
  }
 },
 "nbformat": 4,
 "nbformat_minor": 5
}
